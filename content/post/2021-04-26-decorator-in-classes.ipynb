{
 "cells": [
  {
   "cell_type": "markdown",
   "metadata": {},
   "source": [
    "# Metric支持设置index指定用于计算评估值的输入"
   ]
  },
  {
   "cell_type": "markdown",
   "metadata": {},
   "source": [
    "问题描述：目前头孢 Metrics 模块调用的时候一般是传入两个值，分别是 logits 和 labels. 所以当用户自定义一个网络的时候，而且当这个网络是多输出的时候，用户就需要显示的指定 logits 和 labels 在输入对应的位置，或者需要自定义一个 Metrics 度量来控制模型的输出，往往会给用户使用带来一些困扰。"
   ]
  },
  {
   "cell_type": "markdown",
   "metadata": {},
   "source": [
    "## 解决方案 1"
   ]
  },
  {
   "cell_type": "markdown",
   "metadata": {},
   "source": [
    "```python\n",
    "# 2. define custom accuracy, and do not set the `eval_indexes`.\n",
    "# custom accuracy, the inputs is the outputs of evaluation network, so we should use inputs[0] and inputs[2] to update metrics.\n",
    "from typing import List, Optional\n",
    "\n",
    "\n",
    "class CustomAccuracy(nn.Metric):\n",
    "    def __init__(self, eval_type: str = 'classification', indexes: Optional[List[int]] = None):\n",
    "        super(CustomAccuracy, self).__init__(eval_type)\n",
    "        self.indexes = indexes\n",
    "\n",
    "    def update(self, *inputs):\n",
    "        y_pred = inputs[self.indexes[0]]\n",
    "        y_label = inputs[self.indexes[1]]\n",
    "\n",
    "        pass\n",
    "\n",
    "# use CustomAccuracy and eval_indexes can be empty\n",
    "model = Model(..., eval_network=eval_network, metrics={'accuracy': CustomAccuracy(indexes=[0, 2])})\n",
    "```"
   ]
  },
  {
   "cell_type": "markdown",
   "metadata": {},
   "source": [
    "## 解决方案 2"
   ]
  },
  {
   "cell_type": "markdown",
   "metadata": {},
   "source": [
    "```python\n",
    "# A example for modifing the nn.Accuracy\n",
    "class Accuracy(nn.Metric):\n",
    "    def __init__(self, eval_type='classification'):\n",
    "        super().__init__(eval_type)\n",
    "\n",
    "    @rearrange_inputs\n",
    "    def update(self, *inputs):\n",
    "        pass\n",
    "\n",
    "model = Model(..., eval_network=eval_network, metrics={'accuracy': nn.Accuracy().set_indexes([0, 2])})\n",
    "```"
   ]
  },
  {
   "cell_type": "markdown",
   "metadata": {},
   "source": [
    "### 具体实现"
   ]
  },
  {
   "cell_type": "code",
   "execution_count": 1,
   "metadata": {},
   "outputs": [],
   "source": [
    "import functools\n",
    "from typing import List, Optional\n",
    "from abc import ABCMeta, abstractmethod"
   ]
  },
  {
   "cell_type": "code",
   "execution_count": 2,
   "metadata": {},
   "outputs": [],
   "source": [
    "def rearrange_inputs(func):\n",
    "    \"\"\"\n",
    "    This decorator is used to rearrange the inputs according to its indexes.\n",
    "\n",
    "    Args:\n",
    "        func (Callable): A candidate function to be wrapped whose input will be rearranged.\n",
    "\n",
    "    Returns:\n",
    "        Callable, used to exchange metadata between functions.\n",
    "    \"\"\"\n",
    "    @functools.wraps(func)\n",
    "    def wrapper(self, *inputs):\n",
    "        indexes = self.indexes\n",
    "        inputs = inputs if not indexes else [inputs[i] for i in indexes]\n",
    "        return func(self, *inputs)\n",
    "    return wrapper"
   ]
  },
  {
   "cell_type": "code",
   "execution_count": 3,
   "metadata": {},
   "outputs": [],
   "source": [
    "class RearrangeInputsDemo(object):\n",
    "    def __init__(self):\n",
    "        self._indexes = None\n",
    "\n",
    "    @property\n",
    "    def indexes(self):\n",
    "        return getattr(self, '_indexes', None)\n",
    "\n",
    "    def set_indexes(self, indexes):\n",
    "        self._indexes = indexes\n",
    "        return self\n",
    "\n",
    "    @rearrange_inputs\n",
    "    def update(self, *inputs):\n",
    "        return inputs"
   ]
  },
  {
   "cell_type": "code",
   "execution_count": 4,
   "metadata": {},
   "outputs": [
    {
     "name": "stdout",
     "output_type": "stream",
     "text": [
      "out: (5, 9)\n"
     ]
    }
   ],
   "source": [
    "# test_rearrange_inputs_without_arrange()\n",
    "mini_decorator = RearrangeInputsDemo()\n",
    "outs = mini_decorator.update(5, 9)\n",
    "# assert outs == (5, 9)\n",
    "print(f'out: {outs}')"
   ]
  },
  {
   "cell_type": "code",
   "execution_count": 5,
   "metadata": {},
   "outputs": [
    {
     "name": "stdout",
     "output_type": "stream",
     "text": [
      "out: (9, 5)\n"
     ]
    }
   ],
   "source": [
    "# test_rearrange_inputs_with_arrange()\n",
    "mini_decorator = RearrangeInputsDemo().set_indexes([1, 0])\n",
    "outs = mini_decorator.update(5, 9)\n",
    "# assert outs == (9, 5)\n",
    "print(f'out: {outs}')"
   ]
  },
  {
   "cell_type": "code",
   "execution_count": 6,
   "metadata": {},
   "outputs": [
    {
     "name": "stdout",
     "output_type": "stream",
     "text": [
      "out: (9, 5)\n"
     ]
    }
   ],
   "source": [
    "# test_rearrange_inputs_with_multi_inputs()\n",
    "mini_decorator = RearrangeInputsDemo().set_indexes([1, 3])\n",
    "outs = mini_decorator.update(0, 9, 0, 5)\n",
    "# assert outs == (9, 5)\n",
    "print(f'out: {outs}')"
   ]
  }
 ],
 "metadata": {
  "accelerator": "GPU",
  "colab": {
   "collapsed_sections": [],
   "include_colab_link": true,
   "name": "YOLOv5 Tutorial",
   "provenance": [],
   "toc_visible": true
  },
  "kernelspec": {
   "display_name": "Python 3",
   "language": "python",
   "name": "python3"
  },
  "language_info": {
   "codemirror_mode": {
    "name": "ipython",
    "version": 3
   },
   "file_extension": ".py",
   "mimetype": "text/x-python",
   "name": "python",
   "nbconvert_exporter": "python",
   "pygments_lexer": "ipython3",
   "version": "3.6.9"
  }
 },
 "nbformat": 4,
 "nbformat_minor": 4
}
